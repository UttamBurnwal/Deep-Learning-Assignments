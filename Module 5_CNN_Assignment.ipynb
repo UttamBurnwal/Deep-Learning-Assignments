{
  "nbformat": 4,
  "nbformat_minor": 0,
  "metadata": {
    "colab": {
      "name": "Module 5- CNN Assignment",
      "provenance": [],
      "collapsed_sections": []
    },
    "kernelspec": {
      "name": "python3",
      "display_name": "Python 3"
    },
    "language_info": {
      "name": "python"
    }
  },
  "cells": [
    {
      "cell_type": "markdown",
      "source": [
        "## Using MNIST Dataset try to buildyourConvolutional Neural Network: \n",
        "\n",
        "### A. Do some necessary importslike: \n",
        "* Download the MNIST dataset through Keras \n",
        "* Import a sequential model \n",
        "* Import the convolution and pooling layers \n",
        "* Import dense layers, dropout layer, and the flatten layer \n",
        "* Import numpy"
      ],
      "metadata": {
        "id": "I4ORhZHSQRrb"
      }
    },
    {
      "cell_type": "code",
      "source": [
        "import keras\n",
        "from keras.datasets import mnist\n",
        "from keras.models import Sequential\n",
        "from keras.layers import Conv2D, MaxPooling2D\n",
        "from keras.layers import Dense, Dropout, Flatten\n",
        "import numpy as np"
      ],
      "metadata": {
        "id": "x4NsEjGpQNcO"
      },
      "execution_count": 2,
      "outputs": []
    },
    {
      "cell_type": "markdown",
      "source": [
        "### B. Fit the dataset to a model, i.e. train the model for 12 epochs. \n",
        "\n",
        "* After training the model,evaluate the loss and accuracy of the model on the test data and print it"
      ],
      "metadata": {
        "id": "ZKq83-ZfQbp_"
      }
    },
    {
      "cell_type": "code",
      "source": [
        "# Creating training and testing dataset\n",
        "(x_train, y_train), (x_test, y_test) = mnist.load_data()"
      ],
      "metadata": {
        "colab": {
          "base_uri": "https://localhost:8080/"
        },
        "id": "QEnB8SuYQXD6",
        "outputId": "f9d9360f-5995-4b93-f664-24bac8163483"
      },
      "execution_count": 3,
      "outputs": [
        {
          "output_type": "stream",
          "name": "stdout",
          "text": [
            "Downloading data from https://storage.googleapis.com/tensorflow/tf-keras-datasets/mnist.npz\n",
            "11493376/11490434 [==============================] - 0s 0us/step\n",
            "11501568/11490434 [==============================] - 0s 0us/step\n"
          ]
        }
      ]
    },
    {
      "cell_type": "code",
      "source": [
        "x_train.shape, x_test.shape, y_train.shape, y_test.shape"
      ],
      "metadata": {
        "colab": {
          "base_uri": "https://localhost:8080/"
        },
        "id": "iohS2aIAQfzv",
        "outputId": "0b33817d-2379-4da6-cf48-9a42e5fff8df"
      },
      "execution_count": 4,
      "outputs": [
        {
          "output_type": "execute_result",
          "data": {
            "text/plain": [
              "((60000, 28, 28), (10000, 28, 28), (60000,), (10000,))"
            ]
          },
          "metadata": {},
          "execution_count": 4
        }
      ]
    },
    {
      "cell_type": "code",
      "source": [
        "x_train.shape[0]"
      ],
      "metadata": {
        "colab": {
          "base_uri": "https://localhost:8080/"
        },
        "id": "b7AWSg01Qjdt",
        "outputId": "c4adce1d-7738-4ded-dc99-ed77f6884383"
      },
      "execution_count": 5,
      "outputs": [
        {
          "output_type": "execute_result",
          "data": {
            "text/plain": [
              "60000"
            ]
          },
          "metadata": {},
          "execution_count": 5
        }
      ]
    },
    {
      "cell_type": "code",
      "source": [
        "# Converting 2-d matrix into 1-d array\n",
        "x_train = x_train.reshape(-1, 28, 28, 1)\n",
        "x_test = x_test.reshape(-1, 28, 28, 1)"
      ],
      "metadata": {
        "id": "aueBirigQlgq"
      },
      "execution_count": 6,
      "outputs": []
    },
    {
      "cell_type": "code",
      "source": [
        "# Scaling the dataset\n",
        "x_train = x_train.astype('float32')\n",
        "x_test = x_test.astype('float32')\n",
        "x_train = x_train/255\n",
        "x_test = x_test/255"
      ],
      "metadata": {
        "id": "7YgggX1aQng2"
      },
      "execution_count": 7,
      "outputs": []
    },
    {
      "cell_type": "code",
      "source": [
        "num_category = 10\n",
        "from tensorflow.keras.utils import to_categorical\n",
        "y_train = to_categorical(y_train, num_category)\n",
        "y_test = to_categorical(y_test, num_category)"
      ],
      "metadata": {
        "id": "v6hquv4HQsRm"
      },
      "execution_count": 15,
      "outputs": []
    },
    {
      "cell_type": "code",
      "source": [
        "# Training the model\n",
        "model = Sequential()\n",
        "model.add(Conv2D(filters = 32, kernel_size = (3,3), activation = 'relu', input_shape = (28, 28, 1)))\n",
        "model.add(Conv2D(filters = 64, kernel_size = (3,3), activation = 'relu'))\n",
        "model.add(MaxPooling2D(pool_size = (2,2)))\n",
        "model.add(Dropout(0.25))\n",
        "model.add(Flatten())\n",
        "model.add(Dense(128, activation = 'relu'))\n",
        "model.add(Dropout(0.5))\n",
        "model.add(Dense(num_category, activation = 'softmax'))"
      ],
      "metadata": {
        "id": "gy89li-TQw3a"
      },
      "execution_count": 16,
      "outputs": []
    },
    {
      "cell_type": "code",
      "source": [
        "model.summary()"
      ],
      "metadata": {
        "colab": {
          "base_uri": "https://localhost:8080/"
        },
        "id": "2_5eQhCuRh4F",
        "outputId": "398fbdad-8dfb-4553-a13c-18a87713daf5"
      },
      "execution_count": 17,
      "outputs": [
        {
          "output_type": "stream",
          "name": "stdout",
          "text": [
            "Model: \"sequential\"\n",
            "_________________________________________________________________\n",
            " Layer (type)                Output Shape              Param #   \n",
            "=================================================================\n",
            " conv2d (Conv2D)             (None, 26, 26, 32)        320       \n",
            "                                                                 \n",
            " conv2d_1 (Conv2D)           (None, 24, 24, 64)        18496     \n",
            "                                                                 \n",
            " max_pooling2d (MaxPooling2D  (None, 12, 12, 64)       0         \n",
            " )                                                               \n",
            "                                                                 \n",
            " dropout (Dropout)           (None, 12, 12, 64)        0         \n",
            "                                                                 \n",
            " flatten (Flatten)           (None, 9216)              0         \n",
            "                                                                 \n",
            " dense (Dense)               (None, 128)               1179776   \n",
            "                                                                 \n",
            " dropout_1 (Dropout)         (None, 128)               0         \n",
            "                                                                 \n",
            " dense_1 (Dense)             (None, 10)                1290      \n",
            "                                                                 \n",
            "=================================================================\n",
            "Total params: 1,199,882\n",
            "Trainable params: 1,199,882\n",
            "Non-trainable params: 0\n",
            "_________________________________________________________________\n"
          ]
        }
      ]
    },
    {
      "cell_type": "code",
      "source": [
        "# Compiling the model\n",
        "import tensorflow as tf\n",
        "model.compile(loss= keras.losses.categorical_crossentropy, optimizer = tf.keras.optimizers.Adadelta(), metrics = ['accuracy'])"
      ],
      "metadata": {
        "id": "1Kw0bFoFRnDK"
      },
      "execution_count": 20,
      "outputs": []
    },
    {
      "cell_type": "code",
      "source": [
        "# Training the model with epoch = 12\n",
        "\n",
        "batch_size = 128\n",
        "num_epochs = 12\n",
        "model_log = model.fit(x_train, y_train, batch_size = batch_size, epochs = num_epochs, verbose =1, validation_data = (x_test, y_test))"
      ],
      "metadata": {
        "colab": {
          "base_uri": "https://localhost:8080/"
        },
        "id": "wDh4SLlPRoOY",
        "outputId": "d1f25597-41c7-496f-bbed-2b28f694d85c"
      },
      "execution_count": 21,
      "outputs": [
        {
          "output_type": "stream",
          "name": "stdout",
          "text": [
            "Epoch 1/12\n",
            "469/469 [==============================] - 145s 308ms/step - loss: 2.2857 - accuracy: 0.1510 - val_loss: 2.2495 - val_accuracy: 0.3914\n",
            "Epoch 2/12\n",
            "469/469 [==============================] - 146s 311ms/step - loss: 2.2301 - accuracy: 0.2780 - val_loss: 2.1820 - val_accuracy: 0.5496\n",
            "Epoch 3/12\n",
            "469/469 [==============================] - 146s 310ms/step - loss: 2.1592 - accuracy: 0.3818 - val_loss: 2.0909 - val_accuracy: 0.6303\n",
            "Epoch 4/12\n",
            "469/469 [==============================] - 145s 310ms/step - loss: 2.0614 - accuracy: 0.4615 - val_loss: 1.9623 - val_accuracy: 0.6963\n",
            "Epoch 5/12\n",
            "469/469 [==============================] - 145s 310ms/step - loss: 1.9289 - accuracy: 0.5173 - val_loss: 1.7918 - val_accuracy: 0.7413\n",
            "Epoch 6/12\n",
            "469/469 [==============================] - 145s 309ms/step - loss: 1.7653 - accuracy: 0.5594 - val_loss: 1.5860 - val_accuracy: 0.7621\n",
            "Epoch 7/12\n",
            "469/469 [==============================] - 145s 310ms/step - loss: 1.5833 - accuracy: 0.5949 - val_loss: 1.3664 - val_accuracy: 0.7801\n",
            "Epoch 8/12\n",
            "469/469 [==============================] - 145s 309ms/step - loss: 1.4082 - accuracy: 0.6245 - val_loss: 1.1664 - val_accuracy: 0.8009\n",
            "Epoch 9/12\n",
            "469/469 [==============================] - 146s 312ms/step - loss: 1.2551 - accuracy: 0.6541 - val_loss: 1.0041 - val_accuracy: 0.8161\n",
            "Epoch 10/12\n",
            "469/469 [==============================] - 145s 309ms/step - loss: 1.1400 - accuracy: 0.6741 - val_loss: 0.8791 - val_accuracy: 0.8291\n",
            "Epoch 11/12\n",
            "469/469 [==============================] - 145s 309ms/step - loss: 1.0428 - accuracy: 0.6955 - val_loss: 0.7840 - val_accuracy: 0.8391\n",
            "Epoch 12/12\n",
            "469/469 [==============================] - 145s 308ms/step - loss: 0.9666 - accuracy: 0.7134 - val_loss: 0.7096 - val_accuracy: 0.8469\n"
          ]
        }
      ]
    },
    {
      "cell_type": "code",
      "source": [
        "score = model.evaluate(x_test, y_test, verbose=0)\n",
        "print('loss=', score[0])\n",
        "print('accuracy=', score[1])"
      ],
      "metadata": {
        "colab": {
          "base_uri": "https://localhost:8080/"
        },
        "id": "D2oUR7fLSOPd",
        "outputId": "d5007304-c24f-4560-9df7-319be24849a7"
      },
      "execution_count": 22,
      "outputs": [
        {
          "output_type": "stream",
          "name": "stdout",
          "text": [
            "loss= 0.7096189260482788\n",
            "accuracy= 0.8468999862670898\n"
          ]
        }
      ]
    },
    {
      "cell_type": "code",
      "source": [
        ""
      ],
      "metadata": {
        "id": "QCwQfkAlSklX"
      },
      "execution_count": null,
      "outputs": []
    }
  ]
}