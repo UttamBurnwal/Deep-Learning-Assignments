{
 "cells": [
  {
   "cell_type": "markdown",
   "id": "7ef73a2e",
   "metadata": {},
   "source": [
    "## Using airline-passenger Dataset try to predict the number of passengers for next month, given the number of passengers (in units of thousands) for this month\n",
    "\n",
    "### A. You can write a simple function to convert our single column of data into a two-column dataset: \n",
    "* The first column containing this month’s (t) passenger count and the second column containing next month’s (t+1) passenger count, to be predicted.\n",
    "* Divide the data into train and test set \n",
    "* Fit an LSTM model on top of the data where the optimizer = ‘adam’ and epoch =’100’\n",
    "* Build another model where optimizer = ‘sgd’ and epoch = ‘50"
   ]
  },
  {
   "cell_type": "code",
   "execution_count": 13,
   "id": "501375b1",
   "metadata": {},
   "outputs": [],
   "source": [
    "import pandas as pd\n",
    "import numpy as np\n",
    "import matplotlib.pyplot as plt\n",
    "import keras\n",
    "from keras.models import Sequential\n",
    "from keras.layers import Dense, LSTM\n",
    "from sklearn.preprocessing import MinMaxScaler\n",
    "from sklearn.metrics import mean_squared_error"
   ]
  },
  {
   "cell_type": "code",
   "execution_count": 14,
   "id": "b7fdf6e4",
   "metadata": {},
   "outputs": [
    {
     "data": {
      "text/html": [
       "<div>\n",
       "<style scoped>\n",
       "    .dataframe tbody tr th:only-of-type {\n",
       "        vertical-align: middle;\n",
       "    }\n",
       "\n",
       "    .dataframe tbody tr th {\n",
       "        vertical-align: top;\n",
       "    }\n",
       "\n",
       "    .dataframe thead th {\n",
       "        text-align: right;\n",
       "    }\n",
       "</style>\n",
       "<table border=\"1\" class=\"dataframe\">\n",
       "  <thead>\n",
       "    <tr style=\"text-align: right;\">\n",
       "      <th></th>\n",
       "      <th>\"Month\",\"Passengers\"</th>\n",
       "    </tr>\n",
       "  </thead>\n",
       "  <tbody>\n",
       "    <tr>\n",
       "      <th>0</th>\n",
       "      <td>\"1949-01\",112</td>\n",
       "    </tr>\n",
       "    <tr>\n",
       "      <th>1</th>\n",
       "      <td>\"1949-02\",118</td>\n",
       "    </tr>\n",
       "    <tr>\n",
       "      <th>2</th>\n",
       "      <td>\"1949-03\",132</td>\n",
       "    </tr>\n",
       "    <tr>\n",
       "      <th>3</th>\n",
       "      <td>\"1949-04\",129</td>\n",
       "    </tr>\n",
       "    <tr>\n",
       "      <th>4</th>\n",
       "      <td>\"1949-05\",121</td>\n",
       "    </tr>\n",
       "  </tbody>\n",
       "</table>\n",
       "</div>"
      ],
      "text/plain": [
       "  \"Month\",\"Passengers\"\n",
       "0        \"1949-01\",112\n",
       "1        \"1949-02\",118\n",
       "2        \"1949-03\",132\n",
       "3        \"1949-04\",129\n",
       "4        \"1949-05\",121"
      ]
     },
     "execution_count": 14,
     "metadata": {},
     "output_type": "execute_result"
    }
   ],
   "source": [
    "airp = pd.read_csv('C:/Users/Admin/Downloads/airline-passengers.csv')\n",
    "airp.head()"
   ]
  },
  {
   "cell_type": "code",
   "execution_count": 15,
   "id": "58dee057",
   "metadata": {},
   "outputs": [
    {
     "data": {
      "text/plain": [
       "array(['\"Month\",\"Passengers\"'], dtype=object)"
      ]
     },
     "execution_count": 15,
     "metadata": {},
     "output_type": "execute_result"
    }
   ],
   "source": [
    "airp.columns.values"
   ]
  },
  {
   "cell_type": "code",
   "execution_count": 16,
   "id": "bd5a39d6",
   "metadata": {},
   "outputs": [],
   "source": [
    "airp[['Month', 'Passengers']] = airp['\"Month\",\"Passengers\"'].str.split(',', 1, expand = True)"
   ]
  },
  {
   "cell_type": "code",
   "execution_count": 17,
   "id": "86bcf535",
   "metadata": {},
   "outputs": [
    {
     "data": {
      "text/html": [
       "<div>\n",
       "<style scoped>\n",
       "    .dataframe tbody tr th:only-of-type {\n",
       "        vertical-align: middle;\n",
       "    }\n",
       "\n",
       "    .dataframe tbody tr th {\n",
       "        vertical-align: top;\n",
       "    }\n",
       "\n",
       "    .dataframe thead th {\n",
       "        text-align: right;\n",
       "    }\n",
       "</style>\n",
       "<table border=\"1\" class=\"dataframe\">\n",
       "  <thead>\n",
       "    <tr style=\"text-align: right;\">\n",
       "      <th></th>\n",
       "      <th>\"Month\",\"Passengers\"</th>\n",
       "      <th>Month</th>\n",
       "      <th>Passengers</th>\n",
       "    </tr>\n",
       "  </thead>\n",
       "  <tbody>\n",
       "    <tr>\n",
       "      <th>0</th>\n",
       "      <td>\"1949-01\",112</td>\n",
       "      <td>\"1949-01\"</td>\n",
       "      <td>112</td>\n",
       "    </tr>\n",
       "    <tr>\n",
       "      <th>1</th>\n",
       "      <td>\"1949-02\",118</td>\n",
       "      <td>\"1949-02\"</td>\n",
       "      <td>118</td>\n",
       "    </tr>\n",
       "    <tr>\n",
       "      <th>2</th>\n",
       "      <td>\"1949-03\",132</td>\n",
       "      <td>\"1949-03\"</td>\n",
       "      <td>132</td>\n",
       "    </tr>\n",
       "    <tr>\n",
       "      <th>3</th>\n",
       "      <td>\"1949-04\",129</td>\n",
       "      <td>\"1949-04\"</td>\n",
       "      <td>129</td>\n",
       "    </tr>\n",
       "    <tr>\n",
       "      <th>4</th>\n",
       "      <td>\"1949-05\",121</td>\n",
       "      <td>\"1949-05\"</td>\n",
       "      <td>121</td>\n",
       "    </tr>\n",
       "  </tbody>\n",
       "</table>\n",
       "</div>"
      ],
      "text/plain": [
       "  \"Month\",\"Passengers\"      Month Passengers\n",
       "0        \"1949-01\",112  \"1949-01\"        112\n",
       "1        \"1949-02\",118  \"1949-02\"        118\n",
       "2        \"1949-03\",132  \"1949-03\"        132\n",
       "3        \"1949-04\",129  \"1949-04\"        129\n",
       "4        \"1949-05\",121  \"1949-05\"        121"
      ]
     },
     "execution_count": 17,
     "metadata": {},
     "output_type": "execute_result"
    }
   ],
   "source": [
    "airp.head()"
   ]
  },
  {
   "cell_type": "code",
   "execution_count": 18,
   "id": "7b6fccad",
   "metadata": {},
   "outputs": [],
   "source": [
    "airp = airp.drop(labels = '\"Month\",\"Passengers\"', axis = 1)"
   ]
  },
  {
   "cell_type": "code",
   "execution_count": 19,
   "id": "2b0091be",
   "metadata": {},
   "outputs": [],
   "source": [
    "airp['Month'] = airp['Month'].str.replace('\"', '')"
   ]
  },
  {
   "cell_type": "code",
   "execution_count": 20,
   "id": "1d0206da",
   "metadata": {},
   "outputs": [
    {
     "data": {
      "text/html": [
       "<div>\n",
       "<style scoped>\n",
       "    .dataframe tbody tr th:only-of-type {\n",
       "        vertical-align: middle;\n",
       "    }\n",
       "\n",
       "    .dataframe tbody tr th {\n",
       "        vertical-align: top;\n",
       "    }\n",
       "\n",
       "    .dataframe thead th {\n",
       "        text-align: right;\n",
       "    }\n",
       "</style>\n",
       "<table border=\"1\" class=\"dataframe\">\n",
       "  <thead>\n",
       "    <tr style=\"text-align: right;\">\n",
       "      <th></th>\n",
       "      <th>Month</th>\n",
       "      <th>Passengers</th>\n",
       "    </tr>\n",
       "  </thead>\n",
       "  <tbody>\n",
       "    <tr>\n",
       "      <th>0</th>\n",
       "      <td>1949-01</td>\n",
       "      <td>112</td>\n",
       "    </tr>\n",
       "    <tr>\n",
       "      <th>1</th>\n",
       "      <td>1949-02</td>\n",
       "      <td>118</td>\n",
       "    </tr>\n",
       "    <tr>\n",
       "      <th>2</th>\n",
       "      <td>1949-03</td>\n",
       "      <td>132</td>\n",
       "    </tr>\n",
       "    <tr>\n",
       "      <th>3</th>\n",
       "      <td>1949-04</td>\n",
       "      <td>129</td>\n",
       "    </tr>\n",
       "    <tr>\n",
       "      <th>4</th>\n",
       "      <td>1949-05</td>\n",
       "      <td>121</td>\n",
       "    </tr>\n",
       "  </tbody>\n",
       "</table>\n",
       "</div>"
      ],
      "text/plain": [
       "     Month Passengers\n",
       "0  1949-01        112\n",
       "1  1949-02        118\n",
       "2  1949-03        132\n",
       "3  1949-04        129\n",
       "4  1949-05        121"
      ]
     },
     "execution_count": 20,
     "metadata": {},
     "output_type": "execute_result"
    }
   ],
   "source": [
    "airp.head()"
   ]
  },
  {
   "cell_type": "code",
   "execution_count": 21,
   "id": "b9a41cc3",
   "metadata": {},
   "outputs": [],
   "source": [
    "airp['Month']=pd.to_datetime(airp['Month'], format='%Y-%m-%d')\n",
    "airp.set_index(['Month'], inplace=True)"
   ]
  },
  {
   "cell_type": "code",
   "execution_count": 22,
   "id": "2945094c",
   "metadata": {},
   "outputs": [],
   "source": [
    "airp = airp.values.astype('float32')"
   ]
  },
  {
   "cell_type": "code",
   "execution_count": 23,
   "id": "01252b80",
   "metadata": {},
   "outputs": [
    {
     "data": {
      "text/plain": [
       "dtype('float32')"
      ]
     },
     "execution_count": 23,
     "metadata": {},
     "output_type": "execute_result"
    }
   ],
   "source": [
    "airp.dtype"
   ]
  },
  {
   "cell_type": "code",
   "execution_count": 24,
   "id": "b40ffc75",
   "metadata": {},
   "outputs": [],
   "source": [
    "# Normalise the dataset\n",
    "\n",
    "scaler = MinMaxScaler(feature_range=(0, 1))\n",
    "airp = scaler.fit_transform(airp)"
   ]
  },
  {
   "cell_type": "code",
   "execution_count": 25,
   "id": "01b33e9a",
   "metadata": {},
   "outputs": [],
   "source": [
    "# Split train test data\n",
    "train_size = int(len(airp)*0.70)\n",
    "test_size = len(airp) - train_size"
   ]
  },
  {
   "cell_type": "code",
   "execution_count": 26,
   "id": "1752604d",
   "metadata": {},
   "outputs": [
    {
     "name": "stdout",
     "output_type": "stream",
     "text": [
      "100\n",
      "44\n"
     ]
    },
    {
     "data": {
      "text/plain": [
       "(None, None)"
      ]
     },
     "execution_count": 26,
     "metadata": {},
     "output_type": "execute_result"
    }
   ],
   "source": [
    "train, test = airp[0:train_size,:], airp[train_size:len(airp),:]\n",
    "print(len(train)), print(len(test))"
   ]
  },
  {
   "cell_type": "markdown",
   "id": "8db05279",
   "metadata": {},
   "source": [
    "### The first column containing this month’s (t) passenger count and the second column containing next month’s (t+1) passenger count, to be predicted"
   ]
  },
  {
   "cell_type": "code",
   "execution_count": 27,
   "id": "2dc11e76",
   "metadata": {},
   "outputs": [],
   "source": [
    "def create_dataset(airp, timestamp =1):\n",
    "    X, Y = [], []\n",
    "    for i in range(len(airp)-timestamp-1):\n",
    "        a = airp[i:(i+timestamp), 0]\n",
    "        X.append(a)\n",
    "        Y.append(airp[i+timestamp, 0])\n",
    "    return np.array(X), np.array(Y)"
   ]
  },
  {
   "cell_type": "markdown",
   "id": "e72a6a4e",
   "metadata": {},
   "source": [
    "### Divide the data into train and test set"
   ]
  },
  {
   "cell_type": "code",
   "execution_count": 28,
   "id": "563842f8",
   "metadata": {},
   "outputs": [],
   "source": [
    "timestamp =1\n",
    "X_train, Y_train = create_dataset(train, timestamp=1)\n",
    "X_test, Y_test = create_dataset(test, timestamp=1)"
   ]
  },
  {
   "cell_type": "code",
   "execution_count": 29,
   "id": "1b9d49af",
   "metadata": {},
   "outputs": [
    {
     "name": "stdout",
     "output_type": "stream",
     "text": [
      "(98, 1)\n",
      "(98,)\n",
      "(42, 1)\n",
      "(42,)\n"
     ]
    }
   ],
   "source": [
    "print(X_train.shape)\n",
    "print(Y_train.shape)\n",
    "print(X_test.shape)\n",
    "print(Y_test.shape)"
   ]
  },
  {
   "cell_type": "code",
   "execution_count": 30,
   "id": "03252f60",
   "metadata": {},
   "outputs": [
    {
     "name": "stdout",
     "output_type": "stream",
     "text": [
      "(98, 1, 1)\n",
      "(98,)\n",
      "(42, 1, 1)\n",
      "(42,)\n"
     ]
    }
   ],
   "source": [
    "X_train = np.reshape(X_train, (X_train.shape[0], 1, X_train.shape[1]))\n",
    "X_test = np.reshape(X_test, (X_test.shape[0], 1, X_test.shape[1]))\n",
    "print(X_train.shape)\n",
    "print(Y_train.shape)\n",
    "print(X_test.shape)\n",
    "print(Y_test.shape)"
   ]
  },
  {
   "cell_type": "markdown",
   "id": "1b47ac81",
   "metadata": {},
   "source": [
    "### Fit an LSTM model on top of the data where the optimizer = ‘adam’ and epoch =’100’"
   ]
  },
  {
   "cell_type": "code",
   "execution_count": 31,
   "id": "038b2b30",
   "metadata": {},
   "outputs": [
    {
     "name": "stdout",
     "output_type": "stream",
     "text": [
      "Epoch 1/100\n",
      "98/98 - 0s - loss: 0.0399 - accuracy: 0.0102\n",
      "Epoch 2/100\n",
      "98/98 - 0s - loss: 0.0185 - accuracy: 0.0102\n",
      "Epoch 3/100\n",
      "98/98 - 0s - loss: 0.0144 - accuracy: 0.0102\n",
      "Epoch 4/100\n",
      "98/98 - 0s - loss: 0.0131 - accuracy: 0.0102\n",
      "Epoch 5/100\n",
      "98/98 - 0s - loss: 0.0121 - accuracy: 0.0102\n",
      "Epoch 6/100\n",
      "98/98 - 0s - loss: 0.0110 - accuracy: 0.0102\n",
      "Epoch 7/100\n",
      "98/98 - 0s - loss: 0.0100 - accuracy: 0.0102\n",
      "Epoch 8/100\n",
      "98/98 - 0s - loss: 0.0090 - accuracy: 0.0102\n",
      "Epoch 9/100\n",
      "98/98 - 0s - loss: 0.0079 - accuracy: 0.0102\n",
      "Epoch 10/100\n",
      "98/98 - 0s - loss: 0.0070 - accuracy: 0.0102\n",
      "Epoch 11/100\n",
      "98/98 - 0s - loss: 0.0060 - accuracy: 0.0102\n",
      "Epoch 12/100\n",
      "98/98 - 0s - loss: 0.0053 - accuracy: 0.0102\n",
      "Epoch 13/100\n",
      "98/98 - 0s - loss: 0.0046 - accuracy: 0.0102\n",
      "Epoch 14/100\n",
      "98/98 - 0s - loss: 0.0040 - accuracy: 0.0102\n",
      "Epoch 15/100\n",
      "98/98 - 0s - loss: 0.0036 - accuracy: 0.0102\n",
      "Epoch 16/100\n",
      "98/98 - 0s - loss: 0.0031 - accuracy: 0.0102\n",
      "Epoch 17/100\n",
      "98/98 - 0s - loss: 0.0028 - accuracy: 0.0102\n",
      "Epoch 18/100\n",
      "98/98 - 0s - loss: 0.0026 - accuracy: 0.0102\n",
      "Epoch 19/100\n",
      "98/98 - 0s - loss: 0.0024 - accuracy: 0.0102\n",
      "Epoch 20/100\n",
      "98/98 - 0s - loss: 0.0024 - accuracy: 0.0102\n",
      "Epoch 21/100\n",
      "98/98 - 0s - loss: 0.0022 - accuracy: 0.0102\n",
      "Epoch 22/100\n",
      "98/98 - 0s - loss: 0.0022 - accuracy: 0.0102\n",
      "Epoch 23/100\n",
      "98/98 - 0s - loss: 0.0022 - accuracy: 0.0102\n",
      "Epoch 24/100\n",
      "98/98 - 0s - loss: 0.0022 - accuracy: 0.0102\n",
      "Epoch 25/100\n",
      "98/98 - 0s - loss: 0.0022 - accuracy: 0.0102\n",
      "Epoch 26/100\n",
      "98/98 - 0s - loss: 0.0022 - accuracy: 0.0102\n",
      "Epoch 27/100\n",
      "98/98 - 0s - loss: 0.0021 - accuracy: 0.0102\n",
      "Epoch 28/100\n",
      "98/98 - 0s - loss: 0.0022 - accuracy: 0.0102\n",
      "Epoch 29/100\n",
      "98/98 - 0s - loss: 0.0021 - accuracy: 0.0102\n",
      "Epoch 30/100\n",
      "98/98 - 0s - loss: 0.0022 - accuracy: 0.0102\n",
      "Epoch 31/100\n",
      "98/98 - 0s - loss: 0.0021 - accuracy: 0.0102\n",
      "Epoch 32/100\n",
      "98/98 - 0s - loss: 0.0021 - accuracy: 0.0102\n",
      "Epoch 33/100\n",
      "98/98 - 0s - loss: 0.0022 - accuracy: 0.0102\n",
      "Epoch 34/100\n",
      "98/98 - 0s - loss: 0.0022 - accuracy: 0.0102\n",
      "Epoch 35/100\n",
      "98/98 - 0s - loss: 0.0021 - accuracy: 0.0102\n",
      "Epoch 36/100\n",
      "98/98 - 0s - loss: 0.0021 - accuracy: 0.0102\n",
      "Epoch 37/100\n",
      "98/98 - 0s - loss: 0.0022 - accuracy: 0.0102\n",
      "Epoch 38/100\n",
      "98/98 - 0s - loss: 0.0022 - accuracy: 0.0102\n",
      "Epoch 39/100\n",
      "98/98 - 0s - loss: 0.0022 - accuracy: 0.0102\n",
      "Epoch 40/100\n",
      "98/98 - 0s - loss: 0.0021 - accuracy: 0.0102\n",
      "Epoch 41/100\n",
      "98/98 - 0s - loss: 0.0021 - accuracy: 0.0102\n",
      "Epoch 42/100\n",
      "98/98 - 0s - loss: 0.0022 - accuracy: 0.0102\n",
      "Epoch 43/100\n",
      "98/98 - 0s - loss: 0.0021 - accuracy: 0.0102\n",
      "Epoch 44/100\n",
      "98/98 - 0s - loss: 0.0021 - accuracy: 0.0102\n",
      "Epoch 45/100\n",
      "98/98 - 1s - loss: 0.0021 - accuracy: 0.0102\n",
      "Epoch 46/100\n",
      "98/98 - 0s - loss: 0.0021 - accuracy: 0.0102\n",
      "Epoch 47/100\n",
      "98/98 - 0s - loss: 0.0021 - accuracy: 0.0102\n",
      "Epoch 48/100\n",
      "98/98 - 0s - loss: 0.0020 - accuracy: 0.0102\n",
      "Epoch 49/100\n",
      "98/98 - 0s - loss: 0.0022 - accuracy: 0.0102\n",
      "Epoch 50/100\n",
      "98/98 - 0s - loss: 0.0021 - accuracy: 0.0102\n",
      "Epoch 51/100\n",
      "98/98 - 0s - loss: 0.0021 - accuracy: 0.0102\n",
      "Epoch 52/100\n",
      "98/98 - 0s - loss: 0.0021 - accuracy: 0.0102\n",
      "Epoch 53/100\n",
      "98/98 - 0s - loss: 0.0022 - accuracy: 0.0102\n",
      "Epoch 54/100\n",
      "98/98 - 0s - loss: 0.0021 - accuracy: 0.0102\n",
      "Epoch 55/100\n",
      "98/98 - 0s - loss: 0.0021 - accuracy: 0.0102\n",
      "Epoch 56/100\n",
      "98/98 - 0s - loss: 0.0022 - accuracy: 0.0102\n",
      "Epoch 57/100\n",
      "98/98 - 0s - loss: 0.0022 - accuracy: 0.0102\n",
      "Epoch 58/100\n",
      "98/98 - 0s - loss: 0.0021 - accuracy: 0.0102\n",
      "Epoch 59/100\n",
      "98/98 - 0s - loss: 0.0021 - accuracy: 0.0102\n",
      "Epoch 60/100\n",
      "98/98 - 0s - loss: 0.0021 - accuracy: 0.0102\n",
      "Epoch 61/100\n",
      "98/98 - 0s - loss: 0.0021 - accuracy: 0.0102\n",
      "Epoch 62/100\n",
      "98/98 - 0s - loss: 0.0021 - accuracy: 0.0102\n",
      "Epoch 63/100\n",
      "98/98 - 0s - loss: 0.0022 - accuracy: 0.0102\n",
      "Epoch 64/100\n",
      "98/98 - 0s - loss: 0.0021 - accuracy: 0.0102\n",
      "Epoch 65/100\n",
      "98/98 - 0s - loss: 0.0021 - accuracy: 0.0102\n",
      "Epoch 66/100\n",
      "98/98 - 0s - loss: 0.0022 - accuracy: 0.0102\n",
      "Epoch 67/100\n",
      "98/98 - 0s - loss: 0.0021 - accuracy: 0.0102\n",
      "Epoch 68/100\n",
      "98/98 - 0s - loss: 0.0021 - accuracy: 0.0102\n",
      "Epoch 69/100\n",
      "98/98 - 0s - loss: 0.0022 - accuracy: 0.0102\n",
      "Epoch 70/100\n",
      "98/98 - 0s - loss: 0.0022 - accuracy: 0.0102\n",
      "Epoch 71/100\n",
      "98/98 - 0s - loss: 0.0021 - accuracy: 0.0102\n",
      "Epoch 72/100\n",
      "98/98 - 1s - loss: 0.0022 - accuracy: 0.0102\n",
      "Epoch 73/100\n",
      "98/98 - 0s - loss: 0.0021 - accuracy: 0.0102\n",
      "Epoch 74/100\n",
      "98/98 - 0s - loss: 0.0022 - accuracy: 0.0102\n",
      "Epoch 75/100\n",
      "98/98 - 0s - loss: 0.0021 - accuracy: 0.0102\n",
      "Epoch 76/100\n",
      "98/98 - 0s - loss: 0.0022 - accuracy: 0.0102\n",
      "Epoch 77/100\n",
      "98/98 - 0s - loss: 0.0021 - accuracy: 0.0102\n",
      "Epoch 78/100\n",
      "98/98 - 1s - loss: 0.0021 - accuracy: 0.0102\n",
      "Epoch 79/100\n",
      "98/98 - 0s - loss: 0.0021 - accuracy: 0.0102\n",
      "Epoch 80/100\n",
      "98/98 - 0s - loss: 0.0021 - accuracy: 0.0102\n",
      "Epoch 81/100\n",
      "98/98 - 0s - loss: 0.0021 - accuracy: 0.0102\n",
      "Epoch 82/100\n",
      "98/98 - 0s - loss: 0.0021 - accuracy: 0.0102\n",
      "Epoch 83/100\n",
      "98/98 - 0s - loss: 0.0021 - accuracy: 0.0102\n",
      "Epoch 84/100\n",
      "98/98 - 0s - loss: 0.0021 - accuracy: 0.0102\n",
      "Epoch 85/100\n",
      "98/98 - 0s - loss: 0.0022 - accuracy: 0.0102\n",
      "Epoch 86/100\n",
      "98/98 - 0s - loss: 0.0022 - accuracy: 0.0102\n",
      "Epoch 87/100\n",
      "98/98 - 0s - loss: 0.0022 - accuracy: 0.0102\n",
      "Epoch 88/100\n",
      "98/98 - 0s - loss: 0.0021 - accuracy: 0.0102\n",
      "Epoch 89/100\n",
      "98/98 - 0s - loss: 0.0021 - accuracy: 0.0102\n",
      "Epoch 90/100\n",
      "98/98 - 0s - loss: 0.0021 - accuracy: 0.0102\n",
      "Epoch 91/100\n",
      "98/98 - 0s - loss: 0.0021 - accuracy: 0.0102\n",
      "Epoch 92/100\n",
      "98/98 - 0s - loss: 0.0022 - accuracy: 0.0102\n",
      "Epoch 93/100\n",
      "98/98 - 0s - loss: 0.0021 - accuracy: 0.0102\n",
      "Epoch 94/100\n",
      "98/98 - 0s - loss: 0.0022 - accuracy: 0.0102\n",
      "Epoch 95/100\n",
      "98/98 - 0s - loss: 0.0021 - accuracy: 0.0102\n",
      "Epoch 96/100\n",
      "98/98 - 0s - loss: 0.0021 - accuracy: 0.0102\n",
      "Epoch 97/100\n",
      "98/98 - 0s - loss: 0.0021 - accuracy: 0.0102\n",
      "Epoch 98/100\n",
      "98/98 - 0s - loss: 0.0021 - accuracy: 0.0102\n",
      "Epoch 99/100\n",
      "98/98 - 0s - loss: 0.0021 - accuracy: 0.0102\n",
      "Epoch 100/100\n",
      "98/98 - 0s - loss: 0.0021 - accuracy: 0.0102\n"
     ]
    },
    {
     "data": {
      "text/plain": [
       "<tensorflow.python.keras.callbacks.History at 0x1edd8c13f40>"
      ]
     },
     "execution_count": 31,
     "metadata": {},
     "output_type": "execute_result"
    }
   ],
   "source": [
    "model = Sequential()\n",
    "model.add(LSTM(4, input_shape=(1,timestamp)))\n",
    "model.add(Dense(1))\n",
    "model.compile(loss = 'mean_squared_error', optimizer = 'adam', metrics = ['accuracy'])\n",
    "model.fit(X_train, Y_train, epochs = 100, batch_size =1, verbose =2)"
   ]
  },
  {
   "cell_type": "code",
   "execution_count": 33,
   "id": "7a4a57a9",
   "metadata": {},
   "outputs": [],
   "source": [
    "train_pred = model.predict(X_train)\n",
    "test_pred = model.predict(X_test)\n",
    "\n",
    "# invert predictions\n",
    "train_pred = scaler.inverse_transform(train_pred)\n",
    "Y_train = scaler.inverse_transform([Y_train])\n",
    "test_pred = scaler.inverse_transform(test_pred)\n",
    "Y_test = scaler.inverse_transform([Y_test])"
   ]
  },
  {
   "cell_type": "code",
   "execution_count": 34,
   "id": "724d72a2",
   "metadata": {},
   "outputs": [
    {
     "name": "stdout",
     "output_type": "stream",
     "text": [
      "Train Score: 23.41 RMSE\n",
      "Test Score: 48.69 RMSE\n"
     ]
    }
   ],
   "source": [
    "train_Score = np.sqrt(mean_squared_error(Y_train[0], train_pred[:,0]))\n",
    "print('Train Score: %.2f RMSE' % (train_Score))\n",
    "test_Score = np.sqrt(mean_squared_error(Y_test[0], test_pred[:,0]))\n",
    "print('Test Score: %.2f RMSE' % (test_Score))"
   ]
  },
  {
   "cell_type": "markdown",
   "id": "b274cf3d",
   "metadata": {},
   "source": [
    "### Build another model where optimizer = ‘sgd’ and epoch = ‘50"
   ]
  },
  {
   "cell_type": "code",
   "execution_count": 38,
   "id": "1910fdb8",
   "metadata": {},
   "outputs": [
    {
     "name": "stdout",
     "output_type": "stream",
     "text": [
      "(98, 1)\n",
      "(98,)\n",
      "(42, 1)\n",
      "(42,)\n"
     ]
    }
   ],
   "source": [
    "timestamp =1\n",
    "X_train, Y_train = create_dataset(train, timestamp=1)\n",
    "X_test, Y_test = create_dataset(test, timestamp=1)\n",
    "print(X_train.shape)\n",
    "print(Y_train.shape)\n",
    "print(X_test.shape)\n",
    "print(Y_test.shape)"
   ]
  },
  {
   "cell_type": "code",
   "execution_count": 39,
   "id": "949f0892",
   "metadata": {},
   "outputs": [
    {
     "name": "stdout",
     "output_type": "stream",
     "text": [
      "(98, 1, 1)\n",
      "(98,)\n",
      "(42, 1, 1)\n",
      "(42,)\n"
     ]
    }
   ],
   "source": [
    "X_train = np.reshape(X_train, (X_train.shape[0], 1, X_train.shape[1]))\n",
    "X_test = np.reshape(X_test, (X_test.shape[0], 1, X_test.shape[1]))\n",
    "print(X_train.shape)\n",
    "print(Y_train.shape)\n",
    "print(X_test.shape)\n",
    "print(Y_test.shape)"
   ]
  },
  {
   "cell_type": "code",
   "execution_count": 40,
   "id": "904db130",
   "metadata": {},
   "outputs": [
    {
     "name": "stdout",
     "output_type": "stream",
     "text": [
      "Epoch 1/50\n",
      "98/98 - 0s - loss: 0.0288 - accuracy: 0.0102\n",
      "Epoch 2/50\n",
      "98/98 - 0s - loss: 0.0188 - accuracy: 0.0102\n",
      "Epoch 3/50\n",
      "98/98 - 0s - loss: 0.0184 - accuracy: 0.0102\n",
      "Epoch 4/50\n",
      "98/98 - 0s - loss: 0.0182 - accuracy: 0.0102\n",
      "Epoch 5/50\n",
      "98/98 - 0s - loss: 0.0178 - accuracy: 0.0102\n",
      "Epoch 6/50\n",
      "98/98 - 0s - loss: 0.0177 - accuracy: 0.0102\n",
      "Epoch 7/50\n",
      "98/98 - 0s - loss: 0.0174 - accuracy: 0.0102\n",
      "Epoch 8/50\n",
      "98/98 - 0s - loss: 0.0172 - accuracy: 0.0102\n",
      "Epoch 9/50\n",
      "98/98 - 0s - loss: 0.0169 - accuracy: 0.0102\n",
      "Epoch 10/50\n",
      "98/98 - 0s - loss: 0.0168 - accuracy: 0.0102\n",
      "Epoch 11/50\n",
      "98/98 - 0s - loss: 0.0164 - accuracy: 0.0102\n",
      "Epoch 12/50\n",
      "98/98 - 0s - loss: 0.0162 - accuracy: 0.0102\n",
      "Epoch 13/50\n",
      "98/98 - 0s - loss: 0.0160 - accuracy: 0.0102\n",
      "Epoch 14/50\n",
      "98/98 - 0s - loss: 0.0158 - accuracy: 0.0102\n",
      "Epoch 15/50\n",
      "98/98 - 0s - loss: 0.0155 - accuracy: 0.0102\n",
      "Epoch 16/50\n",
      "98/98 - 0s - loss: 0.0153 - accuracy: 0.0102\n",
      "Epoch 17/50\n",
      "98/98 - 0s - loss: 0.0152 - accuracy: 0.0102\n",
      "Epoch 18/50\n",
      "98/98 - 0s - loss: 0.0149 - accuracy: 0.0102\n",
      "Epoch 19/50\n",
      "98/98 - 0s - loss: 0.0147 - accuracy: 0.0102\n",
      "Epoch 20/50\n",
      "98/98 - 0s - loss: 0.0144 - accuracy: 0.0102\n",
      "Epoch 21/50\n",
      "98/98 - 0s - loss: 0.0142 - accuracy: 0.0102\n",
      "Epoch 22/50\n",
      "98/98 - 0s - loss: 0.0141 - accuracy: 0.0102\n",
      "Epoch 23/50\n",
      "98/98 - 0s - loss: 0.0138 - accuracy: 0.0102\n",
      "Epoch 24/50\n",
      "98/98 - 0s - loss: 0.0137 - accuracy: 0.0102\n",
      "Epoch 25/50\n",
      "98/98 - 0s - loss: 0.0135 - accuracy: 0.0102\n",
      "Epoch 26/50\n",
      "98/98 - 1s - loss: 0.0133 - accuracy: 0.0102\n",
      "Epoch 27/50\n",
      "98/98 - 0s - loss: 0.0131 - accuracy: 0.0102\n",
      "Epoch 28/50\n",
      "98/98 - 0s - loss: 0.0129 - accuracy: 0.0102\n",
      "Epoch 29/50\n",
      "98/98 - 0s - loss: 0.0127 - accuracy: 0.0102\n",
      "Epoch 30/50\n",
      "98/98 - 0s - loss: 0.0126 - accuracy: 0.0102\n",
      "Epoch 31/50\n",
      "98/98 - 0s - loss: 0.0123 - accuracy: 0.0102\n",
      "Epoch 32/50\n",
      "98/98 - 0s - loss: 0.0121 - accuracy: 0.0102\n",
      "Epoch 33/50\n",
      "98/98 - 0s - loss: 0.0119 - accuracy: 0.0102\n",
      "Epoch 34/50\n",
      "98/98 - 0s - loss: 0.0117 - accuracy: 0.0102\n",
      "Epoch 35/50\n",
      "98/98 - 0s - loss: 0.0116 - accuracy: 0.0102\n",
      "Epoch 36/50\n",
      "98/98 - 0s - loss: 0.0114 - accuracy: 0.0102\n",
      "Epoch 37/50\n",
      "98/98 - 0s - loss: 0.0112 - accuracy: 0.0102\n",
      "Epoch 38/50\n",
      "98/98 - 0s - loss: 0.0111 - accuracy: 0.0102\n",
      "Epoch 39/50\n",
      "98/98 - 1s - loss: 0.0109 - accuracy: 0.0102\n",
      "Epoch 40/50\n",
      "98/98 - 0s - loss: 0.0106 - accuracy: 0.0102\n",
      "Epoch 41/50\n",
      "98/98 - 0s - loss: 0.0106 - accuracy: 0.0102\n",
      "Epoch 42/50\n",
      "98/98 - 0s - loss: 0.0104 - accuracy: 0.0102\n",
      "Epoch 43/50\n",
      "98/98 - 0s - loss: 0.0102 - accuracy: 0.0102\n",
      "Epoch 44/50\n",
      "98/98 - 0s - loss: 0.0101 - accuracy: 0.0102\n",
      "Epoch 45/50\n",
      "98/98 - 0s - loss: 0.0099 - accuracy: 0.0102\n",
      "Epoch 46/50\n",
      "98/98 - 1s - loss: 0.0097 - accuracy: 0.0102\n",
      "Epoch 47/50\n",
      "98/98 - 0s - loss: 0.0096 - accuracy: 0.0102\n",
      "Epoch 48/50\n",
      "98/98 - 0s - loss: 0.0094 - accuracy: 0.0102\n",
      "Epoch 49/50\n",
      "98/98 - 0s - loss: 0.0093 - accuracy: 0.0102\n",
      "Epoch 50/50\n",
      "98/98 - 0s - loss: 0.0091 - accuracy: 0.0102\n"
     ]
    },
    {
     "data": {
      "text/plain": [
       "<tensorflow.python.keras.callbacks.History at 0x1eddd5e4730>"
      ]
     },
     "execution_count": 40,
     "metadata": {},
     "output_type": "execute_result"
    }
   ],
   "source": [
    "# Another model where optimizer = ‘sgd’ and epoch = ‘50\n",
    "\n",
    "model1 = Sequential()\n",
    "model1.add(LSTM(10, input_shape = (1, timestamp)))\n",
    "model1.add(Dense(1))\n",
    "model1.compile(loss = 'mean_squared_error', optimizer = 'SGD', metrics = ['accuracy'])\n",
    "model1.fit(X_train, Y_train, epochs = 50, batch_size =1, verbose =2)"
   ]
  },
  {
   "cell_type": "code",
   "execution_count": 41,
   "id": "4a4a041d",
   "metadata": {},
   "outputs": [],
   "source": [
    "train_pred = model.predict(X_train)\n",
    "test_pred = model.predict(X_test)\n",
    "\n",
    "# invert predictions\n",
    "train_pred = scaler.inverse_transform(train_pred)\n",
    "Y_train = scaler.inverse_transform([Y_train])\n",
    "test_pred = scaler.inverse_transform(test_pred)\n",
    "Y_test = scaler.inverse_transform([Y_test])"
   ]
  },
  {
   "cell_type": "code",
   "execution_count": 42,
   "id": "16b8a3ec",
   "metadata": {},
   "outputs": [
    {
     "name": "stdout",
     "output_type": "stream",
     "text": [
      "Train Score: 23.41 RMSE\n",
      "Test Score: 48.69 RMSE\n"
     ]
    }
   ],
   "source": [
    "train_Score = np.sqrt(mean_squared_error(Y_train[0], train_pred[:,0]))\n",
    "print('Train Score: %.2f RMSE' % (train_Score))\n",
    "test_Score = np.sqrt(mean_squared_error(Y_test[0], test_pred[:,0]))\n",
    "print('Test Score: %.2f RMSE' % (test_Score))"
   ]
  },
  {
   "cell_type": "code",
   "execution_count": null,
   "id": "b95ac6b9",
   "metadata": {},
   "outputs": [],
   "source": []
  }
 ],
 "metadata": {
  "kernelspec": {
   "display_name": "Python 3 (ipykernel)",
   "language": "python",
   "name": "python3"
  },
  "language_info": {
   "codemirror_mode": {
    "name": "ipython",
    "version": 3
   },
   "file_extension": ".py",
   "mimetype": "text/x-python",
   "name": "python",
   "nbconvert_exporter": "python",
   "pygments_lexer": "ipython3",
   "version": "3.8.12"
  }
 },
 "nbformat": 4,
 "nbformat_minor": 5
}
