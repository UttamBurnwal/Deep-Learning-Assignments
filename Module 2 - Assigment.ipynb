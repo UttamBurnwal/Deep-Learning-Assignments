{
 "cells": [
  {
   "cell_type": "code",
   "execution_count": 1,
   "id": "eba29698",
   "metadata": {},
   "outputs": [],
   "source": [
    "# Importing tensorflow library\n",
    "\n",
    "import tensorflow as tf\n",
    "tf.compat.v1.disable_eager_execution()"
   ]
  },
  {
   "cell_type": "markdown",
   "id": "90656fe7",
   "metadata": {},
   "source": [
    "## A. Creating a session in Tensor Flow"
   ]
  },
  {
   "cell_type": "code",
   "execution_count": 2,
   "id": "e57c9f2d",
   "metadata": {},
   "outputs": [],
   "source": [
    "sess = tf.compat.v1.Session()"
   ]
  },
  {
   "cell_type": "markdown",
   "id": "ad8c6ae4",
   "metadata": {},
   "source": [
    "## B. Define constants and perform computation such as addition and subtraction with those constants using the session"
   ]
  },
  {
   "cell_type": "code",
   "execution_count": 3,
   "id": "99fd2536",
   "metadata": {},
   "outputs": [],
   "source": [
    "# Constants are value that are assigned to perform various opertions in tensorflow. These values are constants and cannot \n",
    "# be changed in the future.  \n",
    "\n",
    "# Computation addition and subtraction with these constants using the session\n",
    "\n",
    "a = tf.constant(25)\n",
    "b = tf.constant(12)\n",
    "addition =  a + b\n",
    "subtraction = a - b"
   ]
  },
  {
   "cell_type": "code",
   "execution_count": 4,
   "id": "6c824d7d",
   "metadata": {},
   "outputs": [
    {
     "data": {
      "text/plain": [
       "[37, 13]"
      ]
     },
     "execution_count": 4,
     "metadata": {},
     "output_type": "execute_result"
    }
   ],
   "source": [
    "sess.run([addition, subtraction])"
   ]
  },
  {
   "cell_type": "markdown",
   "id": "0751671c",
   "metadata": {},
   "source": [
    "## C. Print Hello World"
   ]
  },
  {
   "cell_type": "code",
   "execution_count": 5,
   "id": "0628d486",
   "metadata": {},
   "outputs": [
    {
     "data": {
      "text/plain": [
       "b'Hello World'"
      ]
     },
     "execution_count": 5,
     "metadata": {},
     "output_type": "execute_result"
    }
   ],
   "source": [
    "str1 = tf.constant('Hello World') \n",
    "sess.run(str1)"
   ]
  },
  {
   "cell_type": "markdown",
   "id": "ecf85c34",
   "metadata": {},
   "source": [
    "##  D. Creating a simple Linear Equation y = mx+c in tensor flow, where m and c are variables and x is a placeholder\n",
    "\n",
    "### Choosing arbitary values of m and c\n",
    "### Feeding in a scalar value to x\n",
    "### Feed in a vector of 5 values to x\n"
   ]
  },
  {
   "cell_type": "code",
   "execution_count": 21,
   "id": "21c26471",
   "metadata": {},
   "outputs": [],
   "source": [
    "# Y = mx + c\n",
    "\n",
    "m = tf.Variable(5)\n",
    "c = tf.Variable(7)\n",
    "x = tf.compat.v1.placeholder(dtype='int32')\n",
    "Y = m*x + c"
   ]
  },
  {
   "cell_type": "code",
   "execution_count": 22,
   "id": "e82e57b4",
   "metadata": {},
   "outputs": [
    {
     "name": "stdout",
     "output_type": "stream",
     "text": [
      "32\n"
     ]
    }
   ],
   "source": [
    "# integrating Scalar values\n",
    "\n",
    "sess.run(tf.compat.v1.global_variables_initializer())\n",
    "print(sess.run(Y,{x:5}))"
   ]
  },
  {
   "cell_type": "code",
   "execution_count": 23,
   "id": "73dfe646",
   "metadata": {},
   "outputs": [
    {
     "name": "stdout",
     "output_type": "stream",
     "text": [
      "[12 17 22 27 32]\n"
     ]
    }
   ],
   "source": [
    "# Vector of 5 values\n",
    "\n",
    "print(sess.run(Y,{x:[1, 2, 3, 4, 5]}))"
   ]
  },
  {
   "cell_type": "code",
   "execution_count": null,
   "id": "8b38dd5d",
   "metadata": {},
   "outputs": [],
   "source": []
  }
 ],
 "metadata": {
  "kernelspec": {
   "display_name": "Python 3 (ipykernel)",
   "language": "python",
   "name": "python3"
  },
  "language_info": {
   "codemirror_mode": {
    "name": "ipython",
    "version": 3
   },
   "file_extension": ".py",
   "mimetype": "text/x-python",
   "name": "python",
   "nbconvert_exporter": "python",
   "pygments_lexer": "ipython3",
   "version": "3.8.12"
  }
 },
 "nbformat": 4,
 "nbformat_minor": 5
}
